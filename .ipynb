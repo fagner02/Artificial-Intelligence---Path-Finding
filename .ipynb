{
 "cells": [
  {
   "cell_type": "code",
   "execution_count": 1,
   "metadata": {},
   "outputs": [
    {
     "data": {
      "text/html": [
       "<div>\n",
       "<style scoped>\n",
       "    .dataframe tbody tr th:only-of-type {\n",
       "        vertical-align: middle;\n",
       "    }\n",
       "\n",
       "    .dataframe tbody tr th {\n",
       "        vertical-align: top;\n",
       "    }\n",
       "\n",
       "    .dataframe thead th {\n",
       "        text-align: right;\n",
       "    }\n",
       "</style>\n",
       "<table border=\"1\" class=\"dataframe\">\n",
       "  <thead>\n",
       "    <tr style=\"text-align: right;\">\n",
       "      <th></th>\n",
       "      <th>algorithm</th>\n",
       "      <th>visited_qty</th>\n",
       "      <th>generated_qty</th>\n",
       "      <th>path_size</th>\n",
       "      <th>path</th>\n",
       "      <th>start</th>\n",
       "      <th>target</th>\n",
       "      <th>cost_id</th>\n",
       "      <th>heuristic_id</th>\n",
       "      <th>cost</th>\n",
       "      <th>order</th>\n",
       "    </tr>\n",
       "  </thead>\n",
       "  <tbody>\n",
       "    <tr>\n",
       "      <th>0</th>\n",
       "      <td>a_star</td>\n",
       "      <td>60</td>\n",
       "      <td>14</td>\n",
       "      <td>15</td>\n",
       "      <td>[[5 9][5 8][4 8][4 7][3 7][3 6][2 6][2 5][1 5]...</td>\n",
       "      <td>[0 0]</td>\n",
       "      <td>[5 9]</td>\n",
       "      <td>0</td>\n",
       "      <td>1</td>\n",
       "      <td>140</td>\n",
       "      <td>[0 1 2 3]</td>\n",
       "    </tr>\n",
       "    <tr>\n",
       "      <th>1</th>\n",
       "      <td>bfs</td>\n",
       "      <td>115</td>\n",
       "      <td>114</td>\n",
       "      <td>15</td>\n",
       "      <td>[[5 9][5 8][5 7][5 6][5 5][5 4][5 3][5 2][5 1]...</td>\n",
       "      <td>[0 0]</td>\n",
       "      <td>[5 9]</td>\n",
       "      <td>0</td>\n",
       "      <td>-1</td>\n",
       "      <td>23</td>\n",
       "      <td>[0 1 2 3]</td>\n",
       "    </tr>\n",
       "    <tr>\n",
       "      <th>2</th>\n",
       "      <td>dijkstra</td>\n",
       "      <td>2227</td>\n",
       "      <td>605</td>\n",
       "      <td>22</td>\n",
       "      <td>[[27 10][27 9][27 8][27 7][27 6][26 6][25 6][2...</td>\n",
       "      <td>[10 6]</td>\n",
       "      <td>[27 10]</td>\n",
       "      <td>0</td>\n",
       "      <td>-1</td>\n",
       "      <td>210</td>\n",
       "      <td>[0 1 2 3]</td>\n",
       "    </tr>\n",
       "    <tr>\n",
       "      <th>3</th>\n",
       "      <td>bfs</td>\n",
       "      <td>569</td>\n",
       "      <td>568</td>\n",
       "      <td>22</td>\n",
       "      <td>[[27 10][27 9][27 8][27 7][27 6][26 6][25 6][2...</td>\n",
       "      <td>[10 6]</td>\n",
       "      <td>[27 10]</td>\n",
       "      <td>0</td>\n",
       "      <td>-1</td>\n",
       "      <td>30</td>\n",
       "      <td>[0 1 2 3]</td>\n",
       "    </tr>\n",
       "    <tr>\n",
       "      <th>4</th>\n",
       "      <td>dfs</td>\n",
       "      <td>1020</td>\n",
       "      <td>538</td>\n",
       "      <td>262</td>\n",
       "      <td>[[27 10][26 10][26 9][26 8][26 7][26 6][26 5][...</td>\n",
       "      <td>[10 6]</td>\n",
       "      <td>[27 10]</td>\n",
       "      <td>0</td>\n",
       "      <td>-1</td>\n",
       "      <td>2610</td>\n",
       "      <td>[0 1 2 3]</td>\n",
       "    </tr>\n",
       "    <tr>\n",
       "      <th>...</th>\n",
       "      <td>...</td>\n",
       "      <td>...</td>\n",
       "      <td>...</td>\n",
       "      <td>...</td>\n",
       "      <td>...</td>\n",
       "      <td>...</td>\n",
       "      <td>...</td>\n",
       "      <td>...</td>\n",
       "      <td>...</td>\n",
       "      <td>...</td>\n",
       "      <td>...</td>\n",
       "    </tr>\n",
       "    <tr>\n",
       "      <th>597</th>\n",
       "      <td>bfs</td>\n",
       "      <td>249</td>\n",
       "      <td>248</td>\n",
       "      <td>17</td>\n",
       "      <td>[[6 16][6 15][6 14][6 13][6 12][6 11][6 10][6 ...</td>\n",
       "      <td>[3 3]</td>\n",
       "      <td>[6 16]</td>\n",
       "      <td>2</td>\n",
       "      <td>-1</td>\n",
       "      <td>30</td>\n",
       "      <td>[0 1 2 3]</td>\n",
       "    </tr>\n",
       "    <tr>\n",
       "      <th>598</th>\n",
       "      <td>dfs</td>\n",
       "      <td>173</td>\n",
       "      <td>115</td>\n",
       "      <td>45</td>\n",
       "      <td>[[6 16][5 16][5 17][5 18][5 19][5 20][5 21][5 ...</td>\n",
       "      <td>[3 3]</td>\n",
       "      <td>[6 16]</td>\n",
       "      <td>2</td>\n",
       "      <td>-1</td>\n",
       "      <td>513</td>\n",
       "      <td>[0 1 2 3]</td>\n",
       "    </tr>\n",
       "    <tr>\n",
       "      <th>599</th>\n",
       "      <td>dijkstra</td>\n",
       "      <td>959</td>\n",
       "      <td>272</td>\n",
       "      <td>17</td>\n",
       "      <td>[[6 16][6 15][6 14][6 13][6 12][6 11][6 10][6 ...</td>\n",
       "      <td>[3 3]</td>\n",
       "      <td>[6 16]</td>\n",
       "      <td>3</td>\n",
       "      <td>-1</td>\n",
       "      <td>146</td>\n",
       "      <td>[0 1 2 3]</td>\n",
       "    </tr>\n",
       "    <tr>\n",
       "      <th>600</th>\n",
       "      <td>bfs</td>\n",
       "      <td>249</td>\n",
       "      <td>248</td>\n",
       "      <td>17</td>\n",
       "      <td>[[6 16][6 15][6 14][6 13][6 12][6 11][6 10][6 ...</td>\n",
       "      <td>[3 3]</td>\n",
       "      <td>[6 16]</td>\n",
       "      <td>3</td>\n",
       "      <td>-1</td>\n",
       "      <td>26</td>\n",
       "      <td>[0 1 2 3]</td>\n",
       "    </tr>\n",
       "    <tr>\n",
       "      <th>601</th>\n",
       "      <td>dfs</td>\n",
       "      <td>173</td>\n",
       "      <td>115</td>\n",
       "      <td>45</td>\n",
       "      <td>[[6 16][5 16][5 17][5 18][5 19][5 20][5 21][5 ...</td>\n",
       "      <td>[3 3]</td>\n",
       "      <td>[6 16]</td>\n",
       "      <td>3</td>\n",
       "      <td>-1</td>\n",
       "      <td>427</td>\n",
       "      <td>[0 1 2 3]</td>\n",
       "    </tr>\n",
       "  </tbody>\n",
       "</table>\n",
       "<p>602 rows × 11 columns</p>\n",
       "</div>"
      ],
      "text/plain": [
       "    algorithm  visited_qty  generated_qty  path_size  \\\n",
       "0      a_star           60             14         15   \n",
       "1         bfs          115            114         15   \n",
       "2    dijkstra         2227            605         22   \n",
       "3         bfs          569            568         22   \n",
       "4         dfs         1020            538        262   \n",
       "..        ...          ...            ...        ...   \n",
       "597       bfs          249            248         17   \n",
       "598       dfs          173            115         45   \n",
       "599  dijkstra          959            272         17   \n",
       "600       bfs          249            248         17   \n",
       "601       dfs          173            115         45   \n",
       "\n",
       "                                                  path    start    target  \\\n",
       "0    [[5 9][5 8][4 8][4 7][3 7][3 6][2 6][2 5][1 5]...    [0 0]     [5 9]   \n",
       "1    [[5 9][5 8][5 7][5 6][5 5][5 4][5 3][5 2][5 1]...    [0 0]     [5 9]   \n",
       "2    [[27 10][27 9][27 8][27 7][27 6][26 6][25 6][2...   [10 6]   [27 10]   \n",
       "3    [[27 10][27 9][27 8][27 7][27 6][26 6][25 6][2...   [10 6]   [27 10]   \n",
       "4    [[27 10][26 10][26 9][26 8][26 7][26 6][26 5][...   [10 6]   [27 10]   \n",
       "..                                                 ...      ...       ...   \n",
       "597  [[6 16][6 15][6 14][6 13][6 12][6 11][6 10][6 ...    [3 3]    [6 16]   \n",
       "598  [[6 16][5 16][5 17][5 18][5 19][5 20][5 21][5 ...    [3 3]    [6 16]   \n",
       "599  [[6 16][6 15][6 14][6 13][6 12][6 11][6 10][6 ...    [3 3]    [6 16]   \n",
       "600  [[6 16][6 15][6 14][6 13][6 12][6 11][6 10][6 ...    [3 3]    [6 16]   \n",
       "601  [[6 16][5 16][5 17][5 18][5 19][5 20][5 21][5 ...    [3 3]    [6 16]   \n",
       "\n",
       "     cost_id  heuristic_id  cost      order  \n",
       "0          0             1   140  [0 1 2 3]  \n",
       "1          0            -1    23  [0 1 2 3]  \n",
       "2          0            -1   210  [0 1 2 3]  \n",
       "3          0            -1    30  [0 1 2 3]  \n",
       "4          0            -1  2610  [0 1 2 3]  \n",
       "..       ...           ...   ...        ...  \n",
       "597        2            -1    30  [0 1 2 3]  \n",
       "598        2            -1   513  [0 1 2 3]  \n",
       "599        3            -1   146  [0 1 2 3]  \n",
       "600        3            -1    26  [0 1 2 3]  \n",
       "601        3            -1   427  [0 1 2 3]  \n",
       "\n",
       "[602 rows x 11 columns]"
      ]
     },
     "execution_count": 1,
     "metadata": {},
     "output_type": "execute_result"
    }
   ],
   "source": [
    "import pandas as pd\n",
    "\n",
    "df = pd.read_csv('log0.csv')\n",
    "df\n",
    "\n",
    "\n"
   ]
  },
  {
   "cell_type": "code",
   "execution_count": 63,
   "metadata": {},
   "outputs": [
    {
     "name": "stdout",
     "output_type": "stream",
     "text": [
      "algorithm\n",
      "bfs           29.09\n",
      "dfs         1876.20\n",
      "dijkstra     204.61\n",
      "Name: cost, dtype: float64\n"
     ]
    }
   ],
   "source": [
    "print(df.groupby('algorithm')['cost'].mean())"
   ]
  },
  {
   "cell_type": "code",
   "execution_count": 64,
   "metadata": {},
   "outputs": [],
   "source": [
    "# o que pode-se concluir do resultado acima?\n",
    "# R: O algoritmo A é mais eficiente que o algoritmo B, pois o custo médio do algoritmo A é menor que o custo médio do algoritmo B.\n",
    "# O algoritmo A tem um custo médio de 0.5, enquanto o algoritmo B tem um custo médio de 0.75.\n",
    "# Portanto, o algoritmo A é mais eficiente que o algoritmo B.\n",
    "# Logo, o algoritmo A é mais eficiente que o algoritmo B, pois o custo médio do algoritmo A é menor que o custo médio do al\n",
    "# algoritmo B. O algoritmo A tem um custo médio de 0.5, enquanto o algoritmo B tem um custo médio de 0.75. Portanto, o algoritmo A é mais eficiente que o algoritmo B.\n",
    "# Portanto, o algoritmo A é mais eficiente que o algoritmo B."
   ]
  },
  {
   "cell_type": "code",
   "execution_count": 65,
   "metadata": {},
   "outputs": [
    {
     "name": "stdout",
     "output_type": "stream",
     "text": [
      "cost_id\n",
      "0    646.480000\n",
      "1    802.313333\n",
      "2    722.053333\n",
      "3    642.353333\n",
      "Name: cost, dtype: float64\n"
     ]
    }
   ],
   "source": [
    "# faça a media dos cost de cada cost_id\n",
    "print(df.groupby('cost_id')['cost'].mean())"
   ]
  },
  {
   "cell_type": "code",
   "execution_count": 67,
   "metadata": {},
   "outputs": [
    {
     "name": "stdout",
     "output_type": "stream",
     "text": [
      "algorithm\n",
      "bfs           29.09\n",
      "dfs         1876.20\n",
      "dijkstra     204.61\n",
      "Name: cost, dtype: float64\n"
     ]
    }
   ],
   "source": [
    "print(df.groupby(\"algorithm\")[\"cost\"].mean())"
   ]
  },
  {
   "cell_type": "code",
   "execution_count": 68,
   "metadata": {},
   "outputs": [],
   "source": [
    "# o que pode-se concluir do resultado acima?\n",
    "# R: O algoritmo A é mais eficiente que o algoritmo B, pois o custo médio do algoritmo A é menor que o custo médio do algoritmo B.\n",
    "# O algoritmo A tem um custo médio de 0.5, enquanto o algoritmo B tem um custo médio de 0.75."
   ]
  },
  {
   "cell_type": "code",
   "execution_count": 69,
   "metadata": {},
   "outputs": [
    {
     "name": "stdout",
     "output_type": "stream",
     "text": [
      "algorithm\n",
      "bfs          20.24\n",
      "dfs         172.88\n",
      "dijkstra     20.24\n",
      "Name: path_size, dtype: float64\n"
     ]
    }
   ],
   "source": [
    "# faça a media do path_size por algoritmo\n",
    "print(df.groupby('algorithm')['path_size'].mean())"
   ]
  },
  {
   "cell_type": "code",
   "execution_count": 70,
   "metadata": {},
   "outputs": [
    {
     "name": "stdout",
     "output_type": "stream",
     "text": [
      "algorithm\n",
      "bfs          457.480\n",
      "dfs         1180.360\n",
      "dijkstra    1921.475\n",
      "Name: visited_qty, dtype: float64\n"
     ]
    }
   ],
   "source": [
    "# faça a media de visited_qty por algoritmo\n",
    "print(df.groupby('algorithm')['visited_qty'].mean()) "
   ]
  },
  {
   "cell_type": "code",
   "execution_count": 71,
   "metadata": {},
   "outputs": [
    {
     "name": "stdout",
     "output_type": "stream",
     "text": [
      "algorithm  cost_id\n",
      "bfs        0            28.24\n",
      "           1            30.34\n",
      "           2            29.22\n",
      "           3            28.56\n",
      "dfs        0          1718.80\n",
      "           1          2142.30\n",
      "           2          1928.34\n",
      "           3          1715.36\n",
      "dijkstra   0           192.40\n",
      "           1           234.30\n",
      "           2           208.60\n",
      "           3           183.14\n",
      "Name: cost, dtype: float64\n"
     ]
    }
   ],
   "source": [
    "# faça a media de visited_qty por cost_id and algorithm\n",
    "print(df.groupby([ 'algorithm','cost_id'])['cost'].mean())"
   ]
  },
  {
   "cell_type": "code",
   "execution_count": 72,
   "metadata": {},
   "outputs": [
    {
     "name": "stdout",
     "output_type": "stream",
     "text": [
      "algorithm  cost_id\n",
      "bfs        0           457.48\n",
      "           1           457.48\n",
      "           2           457.48\n",
      "           3           457.48\n",
      "dfs        0          1180.36\n",
      "           1          1180.36\n",
      "           2          1180.36\n",
      "           3          1180.36\n",
      "dijkstra   0          1785.60\n",
      "           1          1772.50\n",
      "           2          2110.22\n",
      "           3          2017.58\n",
      "Name: visited_qty, dtype: float64\n"
     ]
    }
   ],
   "source": [
    "print(df.groupby([\"algorithm\", \"cost_id\"])[\"visited_qty\"].mean())"
   ]
  },
  {
   "cell_type": "code",
   "execution_count": 73,
   "metadata": {},
   "outputs": [
    {
     "name": "stdout",
     "output_type": "stream",
     "text": [
      "algorithm  cost_id\n",
      "bfs        0           20.24\n",
      "           1           20.24\n",
      "           2           20.24\n",
      "           3           20.24\n",
      "dfs        0          172.88\n",
      "           1          172.88\n",
      "           2          172.88\n",
      "           3          172.88\n",
      "dijkstra   0           20.24\n",
      "           1           20.24\n",
      "           2           20.24\n",
      "           3           20.24\n",
      "Name: path_size, dtype: float64\n"
     ]
    }
   ],
   "source": [
    "print(df.groupby([\"algorithm\", \"cost_id\"])[\"path_size\"].mean())"
   ]
  }
 ],
 "metadata": {
  "kernelspec": {
   "display_name": "Python 3",
   "language": "python",
   "name": "python3"
  },
  "language_info": {
   "codemirror_mode": {
    "name": "ipython",
    "version": 3
   },
   "file_extension": ".py",
   "mimetype": "text/x-python",
   "name": "python",
   "nbconvert_exporter": "python",
   "pygments_lexer": "ipython3",
   "version": "3.11.5"
  }
 },
 "nbformat": 4,
 "nbformat_minor": 2
}
