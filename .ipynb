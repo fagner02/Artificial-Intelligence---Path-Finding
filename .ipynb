{
 "cells": [
  {
   "cell_type": "code",
   "execution_count": 10,
   "metadata": {},
   "outputs": [
    {
     "data": {
      "text/html": [
       "<div>\n",
       "<style scoped>\n",
       "    .dataframe tbody tr th:only-of-type {\n",
       "        vertical-align: middle;\n",
       "    }\n",
       "\n",
       "    .dataframe tbody tr th {\n",
       "        vertical-align: top;\n",
       "    }\n",
       "\n",
       "    .dataframe thead th {\n",
       "        text-align: right;\n",
       "    }\n",
       "</style>\n",
       "<table border=\"1\" class=\"dataframe\">\n",
       "  <thead>\n",
       "    <tr style=\"text-align: right;\">\n",
       "      <th></th>\n",
       "      <th>algorithm</th>\n",
       "      <th>visited_qty</th>\n",
       "      <th>generated_qty</th>\n",
       "      <th>path_size</th>\n",
       "      <th>path</th>\n",
       "      <th>start</th>\n",
       "      <th>target</th>\n",
       "      <th>cost_id</th>\n",
       "      <th>heuristic_id</th>\n",
       "      <th>cost</th>\n",
       "      <th>order</th>\n",
       "    </tr>\n",
       "  </thead>\n",
       "  <tbody>\n",
       "    <tr>\n",
       "      <th>0</th>\n",
       "      <td>dijkstra</td>\n",
       "      <td>2851</td>\n",
       "      <td>760</td>\n",
       "      <td>24</td>\n",
       "      <td>[[0 10][0 11][0 12][0 13][0 14][0 15][0 16][0 ...</td>\n",
       "      <td>[12 21]</td>\n",
       "      <td>[0 10]</td>\n",
       "      <td>0</td>\n",
       "      <td>-1</td>\n",
       "      <td>230</td>\n",
       "      <td>[0 1 2 3]</td>\n",
       "    </tr>\n",
       "    <tr>\n",
       "      <th>1</th>\n",
       "      <td>bfs</td>\n",
       "      <td>2715</td>\n",
       "      <td>727</td>\n",
       "      <td>24</td>\n",
       "      <td>[[0 10][0 11][0 12][0 13][0 14][0 15][0 16][0 ...</td>\n",
       "      <td>[12 21]</td>\n",
       "      <td>[0 10]</td>\n",
       "      <td>0</td>\n",
       "      <td>-1</td>\n",
       "      <td>230</td>\n",
       "      <td>[0 1 2 3]</td>\n",
       "    </tr>\n",
       "    <tr>\n",
       "      <th>2</th>\n",
       "      <td>dfs</td>\n",
       "      <td>2740</td>\n",
       "      <td>951</td>\n",
       "      <td>226</td>\n",
       "      <td>[[0 10][0 11][0 12][0 13][0 14][0 15][0 16][0 ...</td>\n",
       "      <td>[12 21]</td>\n",
       "      <td>[0 10]</td>\n",
       "      <td>0</td>\n",
       "      <td>-1</td>\n",
       "      <td>2250</td>\n",
       "      <td>[0 1 2 3]</td>\n",
       "    </tr>\n",
       "    <tr>\n",
       "      <th>3</th>\n",
       "      <td>dijkstra</td>\n",
       "      <td>2360</td>\n",
       "      <td>644</td>\n",
       "      <td>24</td>\n",
       "      <td>[[0 10][0 11][0 12][0 13][0 14][0 15][0 16][0 ...</td>\n",
       "      <td>[12 21]</td>\n",
       "      <td>[0 10]</td>\n",
       "      <td>1</td>\n",
       "      <td>-1</td>\n",
       "      <td>230</td>\n",
       "      <td>[0 1 2 3]</td>\n",
       "    </tr>\n",
       "    <tr>\n",
       "      <th>4</th>\n",
       "      <td>bfs</td>\n",
       "      <td>2715</td>\n",
       "      <td>727</td>\n",
       "      <td>24</td>\n",
       "      <td>[[0 10][0 11][0 12][0 13][0 14][0 15][0 16][0 ...</td>\n",
       "      <td>[12 21]</td>\n",
       "      <td>[0 10]</td>\n",
       "      <td>1</td>\n",
       "      <td>-1</td>\n",
       "      <td>230</td>\n",
       "      <td>[0 1 2 3]</td>\n",
       "    </tr>\n",
       "    <tr>\n",
       "      <th>...</th>\n",
       "      <td>...</td>\n",
       "      <td>...</td>\n",
       "      <td>...</td>\n",
       "      <td>...</td>\n",
       "      <td>...</td>\n",
       "      <td>...</td>\n",
       "      <td>...</td>\n",
       "      <td>...</td>\n",
       "      <td>...</td>\n",
       "      <td>...</td>\n",
       "      <td>...</td>\n",
       "    </tr>\n",
       "    <tr>\n",
       "      <th>589</th>\n",
       "      <td>bfs</td>\n",
       "      <td>439</td>\n",
       "      <td>135</td>\n",
       "      <td>11</td>\n",
       "      <td>[[11 21][11 22][10 22][9 22][8 22][7 22][6 22]...</td>\n",
       "      <td>[2 22]</td>\n",
       "      <td>[11 21]</td>\n",
       "      <td>0</td>\n",
       "      <td>-1</td>\n",
       "      <td>100</td>\n",
       "      <td>[0 1 2 3]</td>\n",
       "    </tr>\n",
       "    <tr>\n",
       "      <th>590</th>\n",
       "      <td>dfs</td>\n",
       "      <td>500</td>\n",
       "      <td>280</td>\n",
       "      <td>129</td>\n",
       "      <td>[[11 21][10 21][10 20][10 19][10 18][10 17][10...</td>\n",
       "      <td>[2 22]</td>\n",
       "      <td>[11 21]</td>\n",
       "      <td>0</td>\n",
       "      <td>-1</td>\n",
       "      <td>1280</td>\n",
       "      <td>[0 1 2 3]</td>\n",
       "    </tr>\n",
       "    <tr>\n",
       "      <th>591</th>\n",
       "      <td>dijkstra</td>\n",
       "      <td>644</td>\n",
       "      <td>193</td>\n",
       "      <td>11</td>\n",
       "      <td>[[11 21][10 21][9 21][8 21][7 21][6 21][5 21][...</td>\n",
       "      <td>[2 22]</td>\n",
       "      <td>[11 21]</td>\n",
       "      <td>1</td>\n",
       "      <td>-1</td>\n",
       "      <td>145</td>\n",
       "      <td>[0 1 2 3]</td>\n",
       "    </tr>\n",
       "    <tr>\n",
       "      <th>592</th>\n",
       "      <td>bfs</td>\n",
       "      <td>439</td>\n",
       "      <td>135</td>\n",
       "      <td>11</td>\n",
       "      <td>[[11 21][11 22][10 22][9 22][8 22][7 22][6 22]...</td>\n",
       "      <td>[2 22]</td>\n",
       "      <td>[11 21]</td>\n",
       "      <td>1</td>\n",
       "      <td>-1</td>\n",
       "      <td>145</td>\n",
       "      <td>[0 1 2 3]</td>\n",
       "    </tr>\n",
       "    <tr>\n",
       "      <th>593</th>\n",
       "      <td>dfs</td>\n",
       "      <td>500</td>\n",
       "      <td>280</td>\n",
       "      <td>129</td>\n",
       "      <td>[[11 21][10 21][10 20][10 19][10 18][10 17][10...</td>\n",
       "      <td>[2 22]</td>\n",
       "      <td>[11 21]</td>\n",
       "      <td>1</td>\n",
       "      <td>-1</td>\n",
       "      <td>1620</td>\n",
       "      <td>[0 1 2 3]</td>\n",
       "    </tr>\n",
       "  </tbody>\n",
       "</table>\n",
       "<p>594 rows × 11 columns</p>\n",
       "</div>"
      ],
      "text/plain": [
       "    algorithm  visited_qty  generated_qty  path_size  \\\n",
       "0    dijkstra         2851            760         24   \n",
       "1         bfs         2715            727         24   \n",
       "2         dfs         2740            951        226   \n",
       "3    dijkstra         2360            644         24   \n",
       "4         bfs         2715            727         24   \n",
       "..        ...          ...            ...        ...   \n",
       "589       bfs          439            135         11   \n",
       "590       dfs          500            280        129   \n",
       "591  dijkstra          644            193         11   \n",
       "592       bfs          439            135         11   \n",
       "593       dfs          500            280        129   \n",
       "\n",
       "                                                  path     start    target  \\\n",
       "0    [[0 10][0 11][0 12][0 13][0 14][0 15][0 16][0 ...   [12 21]    [0 10]   \n",
       "1    [[0 10][0 11][0 12][0 13][0 14][0 15][0 16][0 ...   [12 21]    [0 10]   \n",
       "2    [[0 10][0 11][0 12][0 13][0 14][0 15][0 16][0 ...   [12 21]    [0 10]   \n",
       "3    [[0 10][0 11][0 12][0 13][0 14][0 15][0 16][0 ...   [12 21]    [0 10]   \n",
       "4    [[0 10][0 11][0 12][0 13][0 14][0 15][0 16][0 ...   [12 21]    [0 10]   \n",
       "..                                                 ...       ...       ...   \n",
       "589  [[11 21][11 22][10 22][9 22][8 22][7 22][6 22]...    [2 22]   [11 21]   \n",
       "590  [[11 21][10 21][10 20][10 19][10 18][10 17][10...    [2 22]   [11 21]   \n",
       "591  [[11 21][10 21][9 21][8 21][7 21][6 21][5 21][...    [2 22]   [11 21]   \n",
       "592  [[11 21][11 22][10 22][9 22][8 22][7 22][6 22]...    [2 22]   [11 21]   \n",
       "593  [[11 21][10 21][10 20][10 19][10 18][10 17][10...    [2 22]   [11 21]   \n",
       "\n",
       "     cost_id  heuristic_id  cost      order  \n",
       "0          0            -1   230  [0 1 2 3]  \n",
       "1          0            -1   230  [0 1 2 3]  \n",
       "2          0            -1  2250  [0 1 2 3]  \n",
       "3          1            -1   230  [0 1 2 3]  \n",
       "4          1            -1   230  [0 1 2 3]  \n",
       "..       ...           ...   ...        ...  \n",
       "589        0            -1   100  [0 1 2 3]  \n",
       "590        0            -1  1280  [0 1 2 3]  \n",
       "591        1            -1   145  [0 1 2 3]  \n",
       "592        1            -1   145  [0 1 2 3]  \n",
       "593        1            -1  1620  [0 1 2 3]  \n",
       "\n",
       "[594 rows x 11 columns]"
      ]
     },
     "execution_count": 10,
     "metadata": {},
     "output_type": "execute_result"
    }
   ],
   "source": [
    "import pandas as pd\n",
    "\n",
    "df = pd.read_csv('log0.csv')\n",
    "df"
   ]
  },
  {
   "cell_type": "code",
   "execution_count": 11,
   "metadata": {},
   "outputs": [
    {
     "name": "stdout",
     "output_type": "stream",
     "text": [
      "algorithm\n",
      "bfs          233.030303\n",
      "dfs         1948.146465\n",
      "dijkstra     229.803030\n",
      "Name: cost, dtype: float64\n"
     ]
    }
   ],
   "source": [
    "print(df.groupby('algorithm')['cost'].mean())"
   ]
  },
  {
   "cell_type": "code",
   "execution_count": 12,
   "metadata": {},
   "outputs": [
    {
     "name": "stdout",
     "output_type": "stream",
     "text": [
      "cost_id\n",
      "0    735.200000\n",
      "1    917.600000\n",
      "2    828.557823\n",
      "3    732.353741\n",
      "Name: cost, dtype: float64\n"
     ]
    }
   ],
   "source": [
    "print(df.groupby('cost_id')['cost'].mean())"
   ]
  },
  {
   "cell_type": "code",
   "execution_count": 13,
   "metadata": {},
   "outputs": [
    {
     "name": "stdout",
     "output_type": "stream",
     "text": [
      "algorithm\n",
      "bfs          233.030303\n",
      "dfs         1948.146465\n",
      "dijkstra     229.803030\n",
      "Name: cost, dtype: float64\n"
     ]
    }
   ],
   "source": [
    "print(df.groupby(\"algorithm\")[\"cost\"].mean())"
   ]
  },
  {
   "cell_type": "code",
   "execution_count": 14,
   "metadata": {},
   "outputs": [
    {
     "name": "stdout",
     "output_type": "stream",
     "text": [
      "algorithm\n",
      "bfs          22.474747\n",
      "dfs         179.343434\n",
      "dijkstra     22.474747\n",
      "Name: path_size, dtype: float64\n"
     ]
    }
   ],
   "source": [
    "print(df.groupby('algorithm')['path_size'].mean())"
   ]
  },
  {
   "cell_type": "code",
   "execution_count": 15,
   "metadata": {},
   "outputs": [
    {
     "name": "stdout",
     "output_type": "stream",
     "text": [
      "algorithm\n",
      "bfs         1856.535354\n",
      "dfs         1289.030303\n",
      "dijkstra    2107.606061\n",
      "Name: visited_qty, dtype: float64\n"
     ]
    }
   ],
   "source": [
    "print(df.groupby('algorithm')['visited_qty'].mean()) "
   ]
  },
  {
   "cell_type": "code",
   "execution_count": 16,
   "metadata": {},
   "outputs": [
    {
     "name": "stdout",
     "output_type": "stream",
     "text": [
      "algorithm  cost_id\n",
      "bfs        0           213.600000\n",
      "           1           265.600000\n",
      "           2           241.020408\n",
      "           3           211.632653\n",
      "dfs        0          1778.400000\n",
      "           1          2221.600000\n",
      "           2          2008.510204\n",
      "           3          1781.959184\n",
      "dijkstra   0           213.600000\n",
      "           1           265.600000\n",
      "           2           236.142857\n",
      "           3           203.469388\n",
      "Name: cost, dtype: float64\n"
     ]
    }
   ],
   "source": [
    "print(df.groupby([ 'algorithm','cost_id'])['cost'].mean())"
   ]
  },
  {
   "cell_type": "code",
   "execution_count": 17,
   "metadata": {},
   "outputs": [
    {
     "name": "stdout",
     "output_type": "stream",
     "text": [
      "algorithm  cost_id\n",
      "bfs        0          1842.360000\n",
      "           1          1842.360000\n",
      "           2          1871.000000\n",
      "           3          1871.000000\n",
      "dfs        0          1281.140000\n",
      "           1          1281.140000\n",
      "           2          1297.081633\n",
      "           3          1297.081633\n",
      "dijkstra   0          1948.160000\n",
      "           1          1952.200000\n",
      "           2          2352.530612\n",
      "           3          2183.959184\n",
      "Name: visited_qty, dtype: float64\n"
     ]
    }
   ],
   "source": [
    "print(df.groupby([\"algorithm\", \"cost_id\"])[\"visited_qty\"].mean())"
   ]
  },
  {
   "cell_type": "code",
   "execution_count": 18,
   "metadata": {},
   "outputs": [
    {
     "name": "stdout",
     "output_type": "stream",
     "text": [
      "algorithm  cost_id\n",
      "bfs        0           22.360000\n",
      "           1           22.360000\n",
      "           2           22.591837\n",
      "           3           22.591837\n",
      "dfs        0          178.840000\n",
      "           1          178.840000\n",
      "           2          179.857143\n",
      "           3          179.857143\n",
      "dijkstra   0           22.360000\n",
      "           1           22.360000\n",
      "           2           22.591837\n",
      "           3           22.591837\n",
      "Name: path_size, dtype: float64\n"
     ]
    }
   ],
   "source": [
    "print(df.groupby([\"algorithm\", \"cost_id\"])[\"path_size\"].mean())"
   ]
  }
 ],
 "metadata": {
  "kernelspec": {
   "display_name": "Python 3",
   "language": "python",
   "name": "python3"
  },
  "language_info": {
   "codemirror_mode": {
    "name": "ipython",
    "version": 3
   },
   "file_extension": ".py",
   "mimetype": "text/x-python",
   "name": "python",
   "nbconvert_exporter": "python",
   "pygments_lexer": "ipython3",
   "version": "3.11.5"
  }
 },
 "nbformat": 4,
 "nbformat_minor": 2
}
