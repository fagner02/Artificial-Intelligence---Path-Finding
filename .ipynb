{
 "cells": [
  {
   "cell_type": "code",
   "execution_count": 29,
   "metadata": {},
   "outputs": [
    {
     "data": {
      "text/html": [
       "<div>\n",
       "<style scoped>\n",
       "    .dataframe tbody tr th:only-of-type {\n",
       "        vertical-align: middle;\n",
       "    }\n",
       "\n",
       "    .dataframe tbody tr th {\n",
       "        vertical-align: top;\n",
       "    }\n",
       "\n",
       "    .dataframe thead th {\n",
       "        text-align: right;\n",
       "    }\n",
       "</style>\n",
       "<table border=\"1\" class=\"dataframe\">\n",
       "  <thead>\n",
       "    <tr style=\"text-align: right;\">\n",
       "      <th></th>\n",
       "      <th>algorithm</th>\n",
       "      <th>visited_qty</th>\n",
       "      <th>generated_qty</th>\n",
       "      <th>path_size</th>\n",
       "      <th>path</th>\n",
       "      <th>start</th>\n",
       "      <th>target</th>\n",
       "      <th>cost_id</th>\n",
       "      <th>heuristic_id</th>\n",
       "      <th>cost</th>\n",
       "      <th>order</th>\n",
       "    </tr>\n",
       "  </thead>\n",
       "  <tbody>\n",
       "    <tr>\n",
       "      <th>0</th>\n",
       "      <td>dijkstra</td>\n",
       "      <td>375</td>\n",
       "      <td>121</td>\n",
       "      <td>8</td>\n",
       "      <td>[[19 2][19 3][19 4][18 4][17 4][16 4][15 4][14...</td>\n",
       "      <td>[14 4]</td>\n",
       "      <td>[19 2]</td>\n",
       "      <td>0</td>\n",
       "      <td>-1</td>\n",
       "      <td>70</td>\n",
       "      <td>[0 1 2 3]</td>\n",
       "    </tr>\n",
       "    <tr>\n",
       "      <th>1</th>\n",
       "      <td>bfs</td>\n",
       "      <td>284</td>\n",
       "      <td>95</td>\n",
       "      <td>8</td>\n",
       "      <td>[[19 2][19 3][19 4][18 4][17 4][16 4][15 4][14...</td>\n",
       "      <td>[14 4]</td>\n",
       "      <td>[19 2]</td>\n",
       "      <td>0</td>\n",
       "      <td>-1</td>\n",
       "      <td>70</td>\n",
       "      <td>[0 1 2 3]</td>\n",
       "    </tr>\n",
       "    <tr>\n",
       "      <th>2</th>\n",
       "      <td>dfs</td>\n",
       "      <td>246</td>\n",
       "      <td>154</td>\n",
       "      <td>64</td>\n",
       "      <td>[[19 2][18 2][18 1][18 0][17 0][16 0][16 1][16...</td>\n",
       "      <td>[14 4]</td>\n",
       "      <td>[19 2]</td>\n",
       "      <td>0</td>\n",
       "      <td>-1</td>\n",
       "      <td>630</td>\n",
       "      <td>[0 1 2 3]</td>\n",
       "    </tr>\n",
       "    <tr>\n",
       "      <th>3</th>\n",
       "      <td>dijkstra</td>\n",
       "      <td>412</td>\n",
       "      <td>131</td>\n",
       "      <td>8</td>\n",
       "      <td>[[19 2][18 2][17 2][16 2][15 2][14 2][14 3][14...</td>\n",
       "      <td>[14 4]</td>\n",
       "      <td>[19 2]</td>\n",
       "      <td>1</td>\n",
       "      <td>-1</td>\n",
       "      <td>95</td>\n",
       "      <td>[0 1 2 3]</td>\n",
       "    </tr>\n",
       "    <tr>\n",
       "      <th>4</th>\n",
       "      <td>bfs</td>\n",
       "      <td>284</td>\n",
       "      <td>95</td>\n",
       "      <td>8</td>\n",
       "      <td>[[19 2][19 3][19 4][18 4][17 4][16 4][15 4][14...</td>\n",
       "      <td>[14 4]</td>\n",
       "      <td>[19 2]</td>\n",
       "      <td>1</td>\n",
       "      <td>-1</td>\n",
       "      <td>95</td>\n",
       "      <td>[0 1 2 3]</td>\n",
       "    </tr>\n",
       "    <tr>\n",
       "      <th>...</th>\n",
       "      <td>...</td>\n",
       "      <td>...</td>\n",
       "      <td>...</td>\n",
       "      <td>...</td>\n",
       "      <td>...</td>\n",
       "      <td>...</td>\n",
       "      <td>...</td>\n",
       "      <td>...</td>\n",
       "      <td>...</td>\n",
       "      <td>...</td>\n",
       "      <td>...</td>\n",
       "    </tr>\n",
       "    <tr>\n",
       "      <th>587</th>\n",
       "      <td>dfs</td>\n",
       "      <td>260</td>\n",
       "      <td>161</td>\n",
       "      <td>67</td>\n",
       "      <td>[[20 12][20 11][20 10][20 9][20 8][20 7][20 6]...</td>\n",
       "      <td>[16 10]</td>\n",
       "      <td>[20 12]</td>\n",
       "      <td>3</td>\n",
       "      <td>-1</td>\n",
       "      <td>647</td>\n",
       "      <td>[0 1 2 3]</td>\n",
       "    </tr>\n",
       "    <tr>\n",
       "      <th>588</th>\n",
       "      <td>dijkstra</td>\n",
       "      <td>25</td>\n",
       "      <td>16</td>\n",
       "      <td>3</td>\n",
       "      <td>[[2 20][2 21][3 21]]</td>\n",
       "      <td>[3 21]</td>\n",
       "      <td>[2 20]</td>\n",
       "      <td>0</td>\n",
       "      <td>-1</td>\n",
       "      <td>20</td>\n",
       "      <td>[0 1 2 3]</td>\n",
       "    </tr>\n",
       "    <tr>\n",
       "      <th>589</th>\n",
       "      <td>bfs</td>\n",
       "      <td>8</td>\n",
       "      <td>6</td>\n",
       "      <td>3</td>\n",
       "      <td>[[2 20][2 21][3 21]]</td>\n",
       "      <td>[3 21]</td>\n",
       "      <td>[2 20]</td>\n",
       "      <td>0</td>\n",
       "      <td>-1</td>\n",
       "      <td>20</td>\n",
       "      <td>[0 1 2 3]</td>\n",
       "    </tr>\n",
       "    <tr>\n",
       "      <th>590</th>\n",
       "      <td>dfs</td>\n",
       "      <td>3152</td>\n",
       "      <td>900</td>\n",
       "      <td>65</td>\n",
       "      <td>[[2 20][2 19][3 19][3 18][3 17][3 16][3 15][3 ...</td>\n",
       "      <td>[3 21]</td>\n",
       "      <td>[2 20]</td>\n",
       "      <td>0</td>\n",
       "      <td>-1</td>\n",
       "      <td>640</td>\n",
       "      <td>[0 1 2 3]</td>\n",
       "    </tr>\n",
       "    <tr>\n",
       "      <th>591</th>\n",
       "      <td>dijkstra</td>\n",
       "      <td>25</td>\n",
       "      <td>16</td>\n",
       "      <td>3</td>\n",
       "      <td>[[2 20][2 21][3 21]]</td>\n",
       "      <td>[3 21]</td>\n",
       "      <td>[2 20]</td>\n",
       "      <td>1</td>\n",
       "      <td>-1</td>\n",
       "      <td>20</td>\n",
       "      <td>[0 1 2 3]</td>\n",
       "    </tr>\n",
       "  </tbody>\n",
       "</table>\n",
       "<p>592 rows × 11 columns</p>\n",
       "</div>"
      ],
      "text/plain": [
       "    algorithm  visited_qty  generated_qty  path_size  \\\n",
       "0    dijkstra          375            121          8   \n",
       "1         bfs          284             95          8   \n",
       "2         dfs          246            154         64   \n",
       "3    dijkstra          412            131          8   \n",
       "4         bfs          284             95          8   \n",
       "..        ...          ...            ...        ...   \n",
       "587       dfs          260            161         67   \n",
       "588  dijkstra           25             16          3   \n",
       "589       bfs            8              6          3   \n",
       "590       dfs         3152            900         65   \n",
       "591  dijkstra           25             16          3   \n",
       "\n",
       "                                                  path     start    target  \\\n",
       "0    [[19 2][19 3][19 4][18 4][17 4][16 4][15 4][14...    [14 4]    [19 2]   \n",
       "1    [[19 2][19 3][19 4][18 4][17 4][16 4][15 4][14...    [14 4]    [19 2]   \n",
       "2    [[19 2][18 2][18 1][18 0][17 0][16 0][16 1][16...    [14 4]    [19 2]   \n",
       "3    [[19 2][18 2][17 2][16 2][15 2][14 2][14 3][14...    [14 4]    [19 2]   \n",
       "4    [[19 2][19 3][19 4][18 4][17 4][16 4][15 4][14...    [14 4]    [19 2]   \n",
       "..                                                 ...       ...       ...   \n",
       "587  [[20 12][20 11][20 10][20 9][20 8][20 7][20 6]...   [16 10]   [20 12]   \n",
       "588                               [[2 20][2 21][3 21]]    [3 21]    [2 20]   \n",
       "589                               [[2 20][2 21][3 21]]    [3 21]    [2 20]   \n",
       "590  [[2 20][2 19][3 19][3 18][3 17][3 16][3 15][3 ...    [3 21]    [2 20]   \n",
       "591                               [[2 20][2 21][3 21]]    [3 21]    [2 20]   \n",
       "\n",
       "     cost_id  heuristic_id  cost      order  \n",
       "0          0            -1    70  [0 1 2 3]  \n",
       "1          0            -1    70  [0 1 2 3]  \n",
       "2          0            -1   630  [0 1 2 3]  \n",
       "3          1            -1    95  [0 1 2 3]  \n",
       "4          1            -1    95  [0 1 2 3]  \n",
       "..       ...           ...   ...        ...  \n",
       "587        3            -1   647  [0 1 2 3]  \n",
       "588        0            -1    20  [0 1 2 3]  \n",
       "589        0            -1    20  [0 1 2 3]  \n",
       "590        0            -1   640  [0 1 2 3]  \n",
       "591        1            -1    20  [0 1 2 3]  \n",
       "\n",
       "[592 rows x 11 columns]"
      ]
     },
     "execution_count": 29,
     "metadata": {},
     "output_type": "execute_result"
    }
   ],
   "source": [
    "import pandas as pd\n",
    "\n",
    "df = pd.read_csv('log0.csv')\n",
    "df"
   ]
  },
  {
   "cell_type": "code",
   "execution_count": 30,
   "metadata": {},
   "outputs": [
    {
     "name": "stdout",
     "output_type": "stream",
     "text": [
      "algorithm\n",
      "bfs          205.370558\n",
      "dfs         1810.928934\n",
      "dijkstra     200.964646\n",
      "Name: cost, dtype: float64\n"
     ]
    }
   ],
   "source": [
    "print(df.groupby('algorithm')['cost'].mean())"
   ]
  },
  {
   "cell_type": "code",
   "execution_count": 31,
   "metadata": {},
   "outputs": [
    {
     "name": "stdout",
     "output_type": "stream",
     "text": [
      "cost_id\n",
      "0    671.000000\n",
      "1    846.148649\n",
      "2    762.448980\n",
      "3    673.755102\n",
      "Name: cost, dtype: float64\n"
     ]
    }
   ],
   "source": [
    "print(df.groupby('cost_id')['cost'].mean())"
   ]
  },
  {
   "cell_type": "code",
   "execution_count": 32,
   "metadata": {},
   "outputs": [
    {
     "name": "stdout",
     "output_type": "stream",
     "text": [
      "algorithm\n",
      "bfs          205.370558\n",
      "dfs         1810.928934\n",
      "dijkstra     200.964646\n",
      "Name: cost, dtype: float64\n"
     ]
    }
   ],
   "source": [
    "print(df.groupby(\"algorithm\")[\"cost\"].mean())"
   ]
  },
  {
   "cell_type": "code",
   "execution_count": 33,
   "metadata": {},
   "outputs": [
    {
     "name": "stdout",
     "output_type": "stream",
     "text": [
      "algorithm\n",
      "bfs          19.832487\n",
      "dfs         166.664975\n",
      "dijkstra     19.747475\n",
      "Name: path_size, dtype: float64\n"
     ]
    }
   ],
   "source": [
    "print(df.groupby('algorithm')['path_size'].mean())"
   ]
  },
  {
   "cell_type": "code",
   "execution_count": 34,
   "metadata": {},
   "outputs": [
    {
     "name": "stdout",
     "output_type": "stream",
     "text": [
      "algorithm\n",
      "bfs         1481.157360\n",
      "dfs         1169.197970\n",
      "dijkstra    1667.272727\n",
      "Name: visited_qty, dtype: float64\n"
     ]
    }
   ],
   "source": [
    "print(df.groupby('algorithm')['visited_qty'].mean()) "
   ]
  },
  {
   "cell_type": "code",
   "execution_count": 35,
   "metadata": {},
   "outputs": [
    {
     "name": "stdout",
     "output_type": "stream",
     "text": [
      "algorithm  cost_id\n",
      "bfs        0           185.800000\n",
      "           1           238.163265\n",
      "           2           212.102041\n",
      "           3           185.816327\n",
      "dfs        0          1641.400000\n",
      "           1          2078.979592\n",
      "           2          1868.163265\n",
      "           3          1658.632653\n",
      "dijkstra   0           185.800000\n",
      "           1           233.800000\n",
      "           2           207.081633\n",
      "           3           176.816327\n",
      "Name: cost, dtype: float64\n"
     ]
    }
   ],
   "source": [
    "print(df.groupby([ 'algorithm','cost_id'])['cost'].mean())"
   ]
  },
  {
   "cell_type": "code",
   "execution_count": 36,
   "metadata": {},
   "outputs": [
    {
     "name": "stdout",
     "output_type": "stream",
     "text": [
      "algorithm  cost_id\n",
      "bfs        0          1459.060000\n",
      "           1          1488.673469\n",
      "           2          1488.673469\n",
      "           3          1488.673469\n",
      "dfs        0          1198.940000\n",
      "           1          1159.081633\n",
      "           2          1159.081633\n",
      "           3          1159.081633\n",
      "dijkstra   0          1559.400000\n",
      "           1          1560.060000\n",
      "           2          1828.693878\n",
      "           3          1725.326531\n",
      "Name: visited_qty, dtype: float64\n"
     ]
    }
   ],
   "source": [
    "print(df.groupby([\"algorithm\", \"cost_id\"])[\"visited_qty\"].mean())"
   ]
  },
  {
   "cell_type": "code",
   "execution_count": 37,
   "metadata": {},
   "outputs": [
    {
     "name": "stdout",
     "output_type": "stream",
     "text": [
      "algorithm  cost_id\n",
      "bfs        0           19.580000\n",
      "           1           19.918367\n",
      "           2           19.918367\n",
      "           3           19.918367\n",
      "dfs        0          165.140000\n",
      "           1          167.183673\n",
      "           2          167.183673\n",
      "           3          167.183673\n",
      "dijkstra   0           19.580000\n",
      "           1           19.580000\n",
      "           2           19.918367\n",
      "           3           19.918367\n",
      "Name: path_size, dtype: float64\n"
     ]
    }
   ],
   "source": [
    "print(df.groupby([\"algorithm\", \"cost_id\"])[\"path_size\"].mean())"
   ]
  }
 ],
 "metadata": {
  "kernelspec": {
   "display_name": "Python 3",
   "language": "python",
   "name": "python3"
  },
  "language_info": {
   "codemirror_mode": {
    "name": "ipython",
    "version": 3
   },
   "file_extension": ".py",
   "mimetype": "text/x-python",
   "name": "python",
   "nbconvert_exporter": "python",
   "pygments_lexer": "ipython3",
   "version": "3.11.5"
  }
 },
 "nbformat": 4,
 "nbformat_minor": 2
}
